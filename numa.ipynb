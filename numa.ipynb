{
 "cells": [
  {
   "cell_type": "markdown",
   "metadata": {},
   "source": [
    "# LeNet-5 on HODA"
   ]
  },
  {
   "cell_type": "markdown",
   "metadata": {},
   "source": [
    "## Silence TensorFlow\n",
    "We can control the verbosity of TF by setting the `TF_CPP_MIN_LOG_LEVEL` environment variable _before_ importing TensorFlow.\n",
    "\n",
    "This step is enitrely __optional__. But TensorFlow's useless log messages can get annoying..."
   ]
  },
  {
   "cell_type": "code",
   "execution_count": 30,
   "metadata": {},
   "outputs": [],
   "source": [
    "import os\n",
    "\n",
    "os.environ['TF_CPP_MIN_LOG_LEVEL'] = '3'\n"
   ]
  },
  {
   "cell_type": "markdown",
   "metadata": {},
   "source": [
    "## Imports"
   ]
  },
  {
   "cell_type": "code",
   "execution_count": 31,
   "metadata": {},
   "outputs": [],
   "source": [
    "import logging\n",
    "\n",
    "import keras\n",
    "from keras import layers, optimizers, utils, callbacks\n",
    "\n",
    "import matplotlib.pyplot as plt\n",
    "\n",
    "from numa.dataset import hoda\n"
   ]
  },
  {
   "cell_type": "markdown",
   "metadata": {},
   "source": [
    "## Settings"
   ]
  },
  {
   "cell_type": "code",
   "execution_count": 32,
   "metadata": {},
   "outputs": [],
   "source": [
    "# Set logging level to info (used in some parts of this project)\n",
    "logging.basicConfig(level=logging.INFO)\n",
    "\n",
    "# Learning rate for Gradient descent\n",
    "LEARNING_RATE = 0.01\n",
    "# Number of iterations for training model (Check if model is improving if not increase)\n",
    "EPOCHS = 125\n",
    "# Number of samples utilized in one training iteration (Usually 128 or 256 is a good choice for GPU)\n",
    "BATCH_SIZE = 256\n"
   ]
  },
  {
   "cell_type": "markdown",
   "metadata": {},
   "source": [
    "## Importing dataset\n",
    "This step may take a long time to complete. This is due to the fact that the HODA database is __not__ using format compatible with TF, therefore the dataset must be converted before getting fed into the model. "
   ]
  },
  {
   "cell_type": "code",
   "execution_count": 33,
   "metadata": {},
   "outputs": [
    {
     "name": "stderr",
     "output_type": "stream",
     "text": [
      "INFO:root:Reading dataset /home/mehrzad/Code/numa/numa/dataset/hoda/Train.cdb\n",
      "INFO:root:Release date: 2005/8/4\n",
      "INFO:root:Records: 60000\n",
      "INFO:root:Reading dataset /home/mehrzad/Code/numa/numa/dataset/hoda/Test.cdb\n",
      "INFO:root:Release date: 2005/8/4\n",
      "INFO:root:Records: 20000\n"
     ]
    }
   ],
   "source": [
    "# 32x32 binary datasets\n",
    "(train_images, train_labels), (test_images,\n",
    "                               test_labels) = hoda.load_dataset(32)\n"
   ]
  },
  {
   "cell_type": "markdown",
   "metadata": {},
   "source": [
    "## Preparing dataset\n",
    "We have to do some preparations on the dataset before feeding it to the model, more specifically we need to normalize the dataset images and convert labels to one-hot labels"
   ]
  },
  {
   "cell_type": "code",
   "execution_count": 34,
   "metadata": {},
   "outputs": [],
   "source": [
    "# Normalize\n",
    "train_images = train_images.astype('float32') / 255.0\n",
    "test_images = test_images.astype('float32') / 255.0\n",
    "\n",
    "# One-hot labels\n",
    "train_labels = utils.to_categorical(train_labels)\n",
    "test_labels = utils.to_categorical(test_labels)\n"
   ]
  },
  {
   "cell_type": "markdown",
   "metadata": {},
   "source": [
    "## Model\n",
    "Model configuration:\n",
    "  * Using Gradient descent as the optimizer\n",
    "  * Using 'Categorical crossentropy' as loss function\n",
    "    * Model weights are adjusted in a way to minimize the cross-entropy loss (the smaller the loss the better the model)\n",
    "  * Using 'accuracy' as metric (how often predictions match actual labels)"
   ]
  },
  {
   "cell_type": "code",
   "execution_count": 35,
   "metadata": {},
   "outputs": [
    {
     "name": "stdout",
     "output_type": "stream",
     "text": [
      "Model: \"sequential_3\"\n",
      "_________________________________________________________________\n",
      " Layer (type)                Output Shape              Param #   \n",
      "=================================================================\n",
      " conv2d_6 (Conv2D)           (None, 32, 32, 6)         156       \n",
      "                                                                 \n",
      " average_pooling2d_2 (Averag  (None, 16, 16, 6)        0         \n",
      " ePooling2D)                                                     \n",
      "                                                                 \n",
      " conv2d_7 (Conv2D)           (None, 12, 12, 16)        2416      \n",
      "                                                                 \n",
      " average_pooling2d_3 (Averag  (None, 6, 6, 16)         0         \n",
      " ePooling2D)                                                     \n",
      "                                                                 \n",
      " flatten_3 (Flatten)         (None, 576)               0         \n",
      "                                                                 \n",
      " dense_9 (Dense)             (None, 120)               69240     \n",
      "                                                                 \n",
      " dense_10 (Dense)            (None, 84)                10164     \n",
      "                                                                 \n",
      " dense_11 (Dense)            (None, 10)                850       \n",
      "                                                                 \n",
      "=================================================================\n",
      "Total params: 82,826\n",
      "Trainable params: 82,826\n",
      "Non-trainable params: 0\n",
      "_________________________________________________________________\n"
     ]
    }
   ],
   "source": [
    "# Define model\n",
    "model = keras.Sequential([\n",
    "    layers.Conv2D(filters=6, kernel_size=(5, 5), activation='relu',\n",
    "                  padding='same', input_shape=(32, 32, 1)),  # C1\n",
    "    layers.AveragePooling2D(pool_size=(2, 2)),  # S2\n",
    "    layers.Conv2D(filters=16, kernel_size=(5, 5), activation='relu'),  # C3\n",
    "    layers.AveragePooling2D(pool_size=(2, 2)),  # S4\n",
    "    layers.Flatten(),\n",
    "    layers.Dense(120, activation='relu'),  # C5\n",
    "    layers.Dense(84, activation='relu'),  # F6\n",
    "    layers.Dense(10, activation='softmax'),  # Output\n",
    "])\n",
    "\n",
    "# Configure model\n",
    "model.compile(optimizer=optimizers.SGD(learning_rate=LEARNING_RATE),\n",
    "              loss='categorical_crossentropy', metrics=['accuracy'])\n",
    "\n",
    "# Print a summary of the model\n",
    "model.summary()\n"
   ]
  },
  {
   "cell_type": "markdown",
   "metadata": {},
   "source": [
    "## Training model\n",
    "This is where the real fun begins! The model defined in the previous cell will get trained by the HODA dataset.\n",
    "\n",
    "This step will take a _long_ time. Go grab a cup of coffee. \n",
    "\n",
    "* How are we supposed to choose kernel size?\n",
    "\n",
    "  Usually 3x3 or 5x5 works the best\n",
    "\n",
    "* How are we supposed to choose the value for `steps_per_epoch` and `validation_steps` fields?\n",
    "\n",
    "  Most of the time `(number of samples / batch size)` will have good results.\n",
    "\n",
    "  In our case `number of samples` is the first field of the dataset array shape.\n",
    "\n",
    "  (Dataset array shape: `(60000, 32, 32)` - that is 60000 images of size 32x32)"
   ]
  },
  {
   "cell_type": "code",
   "execution_count": 36,
   "metadata": {},
   "outputs": [
    {
     "name": "stdout",
     "output_type": "stream",
     "text": [
      "Epoch 1/125\n",
      "234/234 [==============================] - 2s 9ms/step - loss: 1.7946 - accuracy: 0.4208 - val_loss: 0.7781 - val_accuracy: 0.7227\n",
      "Epoch 2/125\n",
      "234/234 [==============================] - 2s 7ms/step - loss: 0.2961 - accuracy: 0.9111 - val_loss: 0.4129 - val_accuracy: 0.8663\n",
      "Epoch 3/125\n",
      "234/234 [==============================] - 2s 7ms/step - loss: 0.1905 - accuracy: 0.9433 - val_loss: 0.3199 - val_accuracy: 0.9003\n",
      "Epoch 4/125\n",
      "234/234 [==============================] - 2s 7ms/step - loss: 0.1534 - accuracy: 0.9547 - val_loss: 0.2831 - val_accuracy: 0.9126\n",
      "Epoch 5/125\n",
      "234/234 [==============================] - 2s 7ms/step - loss: 0.1332 - accuracy: 0.9610 - val_loss: 0.2447 - val_accuracy: 0.9253\n",
      "Epoch 6/125\n",
      "234/234 [==============================] - 2s 7ms/step - loss: 0.1190 - accuracy: 0.9649 - val_loss: 0.2283 - val_accuracy: 0.9297\n",
      "Epoch 7/125\n",
      "234/234 [==============================] - 2s 7ms/step - loss: 0.1089 - accuracy: 0.9677 - val_loss: 0.2100 - val_accuracy: 0.9354\n",
      "Epoch 8/125\n",
      "234/234 [==============================] - 2s 7ms/step - loss: 0.1000 - accuracy: 0.9702 - val_loss: 0.2027 - val_accuracy: 0.9385\n",
      "Epoch 9/125\n",
      "234/234 [==============================] - 2s 7ms/step - loss: 0.0918 - accuracy: 0.9733 - val_loss: 0.1753 - val_accuracy: 0.9466\n",
      "Epoch 10/125\n",
      "234/234 [==============================] - 2s 7ms/step - loss: 0.0861 - accuracy: 0.9744 - val_loss: 0.1711 - val_accuracy: 0.9467\n",
      "Epoch 11/125\n",
      "234/234 [==============================] - 2s 7ms/step - loss: 0.0804 - accuracy: 0.9762 - val_loss: 0.1771 - val_accuracy: 0.9456\n",
      "Epoch 12/125\n",
      "234/234 [==============================] - 2s 7ms/step - loss: 0.0768 - accuracy: 0.9780 - val_loss: 0.1599 - val_accuracy: 0.9512\n",
      "Epoch 13/125\n",
      "234/234 [==============================] - 2s 7ms/step - loss: 0.0747 - accuracy: 0.9780 - val_loss: 0.1754 - val_accuracy: 0.9462\n",
      "Epoch 14/125\n",
      "234/234 [==============================] - 2s 7ms/step - loss: 0.0695 - accuracy: 0.9796 - val_loss: 0.1563 - val_accuracy: 0.9519\n",
      "Epoch 15/125\n",
      "234/234 [==============================] - 2s 7ms/step - loss: 0.0673 - accuracy: 0.9803 - val_loss: 0.1406 - val_accuracy: 0.9571\n",
      "Epoch 16/125\n",
      "234/234 [==============================] - 2s 7ms/step - loss: 0.0651 - accuracy: 0.9811 - val_loss: 0.1363 - val_accuracy: 0.9582\n",
      "Epoch 17/125\n",
      "234/234 [==============================] - 2s 7ms/step - loss: 0.0618 - accuracy: 0.9823 - val_loss: 0.1315 - val_accuracy: 0.9592\n",
      "Epoch 18/125\n",
      "234/234 [==============================] - 2s 7ms/step - loss: 0.0600 - accuracy: 0.9823 - val_loss: 0.1395 - val_accuracy: 0.9561\n",
      "Epoch 19/125\n",
      "234/234 [==============================] - 2s 7ms/step - loss: 0.0606 - accuracy: 0.9821 - val_loss: 0.1283 - val_accuracy: 0.9604\n",
      "Epoch 20/125\n",
      "234/234 [==============================] - 2s 8ms/step - loss: 0.0557 - accuracy: 0.9835 - val_loss: 0.1276 - val_accuracy: 0.9605\n",
      "Epoch 21/125\n",
      "234/234 [==============================] - 2s 9ms/step - loss: 0.0548 - accuracy: 0.9834 - val_loss: 0.1169 - val_accuracy: 0.9636\n",
      "Epoch 22/125\n",
      "234/234 [==============================] - 2s 8ms/step - loss: 0.0530 - accuracy: 0.9843 - val_loss: 0.1248 - val_accuracy: 0.9616\n",
      "Epoch 23/125\n",
      "234/234 [==============================] - 2s 8ms/step - loss: 0.0507 - accuracy: 0.9853 - val_loss: 0.1135 - val_accuracy: 0.9653\n",
      "Epoch 24/125\n",
      "234/234 [==============================] - 2s 8ms/step - loss: 0.0513 - accuracy: 0.9845 - val_loss: 0.1260 - val_accuracy: 0.9622\n",
      "Epoch 25/125\n",
      "234/234 [==============================] - 2s 8ms/step - loss: 0.0486 - accuracy: 0.9853 - val_loss: 0.1240 - val_accuracy: 0.9620\n",
      "Epoch 26/125\n",
      "234/234 [==============================] - 2s 8ms/step - loss: 0.0472 - accuracy: 0.9860 - val_loss: 0.1126 - val_accuracy: 0.9652\n",
      "Epoch 27/125\n",
      "234/234 [==============================] - 2s 8ms/step - loss: 0.0468 - accuracy: 0.9862 - val_loss: 0.1166 - val_accuracy: 0.9633\n",
      "Epoch 28/125\n",
      "234/234 [==============================] - 2s 8ms/step - loss: 0.0440 - accuracy: 0.9869 - val_loss: 0.1134 - val_accuracy: 0.9651\n",
      "Epoch 29/125\n",
      "234/234 [==============================] - 2s 8ms/step - loss: 0.0456 - accuracy: 0.9863 - val_loss: 0.1074 - val_accuracy: 0.9670\n",
      "Epoch 30/125\n",
      "234/234 [==============================] - 2s 8ms/step - loss: 0.0438 - accuracy: 0.9871 - val_loss: 0.1047 - val_accuracy: 0.9692\n",
      "Epoch 31/125\n",
      "234/234 [==============================] - 2s 8ms/step - loss: 0.0423 - accuracy: 0.9873 - val_loss: 0.1033 - val_accuracy: 0.9685\n",
      "Epoch 32/125\n",
      "234/234 [==============================] - 2s 8ms/step - loss: 0.0420 - accuracy: 0.9874 - val_loss: 0.1018 - val_accuracy: 0.9695\n",
      "Epoch 33/125\n",
      "234/234 [==============================] - 2s 8ms/step - loss: 0.0388 - accuracy: 0.9885 - val_loss: 0.1067 - val_accuracy: 0.9679\n",
      "Epoch 34/125\n",
      "234/234 [==============================] - 2s 8ms/step - loss: 0.0391 - accuracy: 0.9879 - val_loss: 0.1003 - val_accuracy: 0.9695\n",
      "Epoch 35/125\n",
      "234/234 [==============================] - 2s 8ms/step - loss: 0.0388 - accuracy: 0.9880 - val_loss: 0.0973 - val_accuracy: 0.9709\n",
      "Epoch 36/125\n",
      "234/234 [==============================] - 2s 8ms/step - loss: 0.0371 - accuracy: 0.9886 - val_loss: 0.0975 - val_accuracy: 0.9708\n",
      "Epoch 37/125\n",
      "234/234 [==============================] - 2s 8ms/step - loss: 0.0368 - accuracy: 0.9890 - val_loss: 0.0927 - val_accuracy: 0.9715\n",
      "Epoch 38/125\n",
      "234/234 [==============================] - 2s 8ms/step - loss: 0.0360 - accuracy: 0.9889 - val_loss: 0.1003 - val_accuracy: 0.9695\n",
      "Epoch 39/125\n",
      "234/234 [==============================] - 2s 8ms/step - loss: 0.0358 - accuracy: 0.9891 - val_loss: 0.0960 - val_accuracy: 0.9703\n",
      "Epoch 40/125\n",
      "234/234 [==============================] - 2s 8ms/step - loss: 0.0352 - accuracy: 0.9893 - val_loss: 0.1033 - val_accuracy: 0.9682\n",
      "Epoch 41/125\n",
      "234/234 [==============================] - 2s 8ms/step - loss: 0.0327 - accuracy: 0.9901 - val_loss: 0.0907 - val_accuracy: 0.9726\n",
      "Epoch 42/125\n",
      "234/234 [==============================] - 2s 8ms/step - loss: 0.0337 - accuracy: 0.9894 - val_loss: 0.0977 - val_accuracy: 0.9702\n",
      "Epoch 43/125\n",
      "234/234 [==============================] - 2s 8ms/step - loss: 0.0323 - accuracy: 0.9903 - val_loss: 0.0992 - val_accuracy: 0.9706\n",
      "Epoch 44/125\n",
      "234/234 [==============================] - 2s 8ms/step - loss: 0.0322 - accuracy: 0.9903 - val_loss: 0.0896 - val_accuracy: 0.9731\n",
      "Epoch 45/125\n",
      "234/234 [==============================] - 2s 8ms/step - loss: 0.0315 - accuracy: 0.9905 - val_loss: 0.0908 - val_accuracy: 0.9725\n",
      "Epoch 46/125\n",
      "234/234 [==============================] - 2s 8ms/step - loss: 0.0307 - accuracy: 0.9909 - val_loss: 0.0877 - val_accuracy: 0.9740\n",
      "Epoch 47/125\n",
      "234/234 [==============================] - 2s 8ms/step - loss: 0.0301 - accuracy: 0.9908 - val_loss: 0.0870 - val_accuracy: 0.9743\n",
      "Epoch 48/125\n",
      "234/234 [==============================] - 2s 8ms/step - loss: 0.0311 - accuracy: 0.9903 - val_loss: 0.0864 - val_accuracy: 0.9733\n",
      "Epoch 49/125\n",
      "234/234 [==============================] - 2s 8ms/step - loss: 0.0286 - accuracy: 0.9915 - val_loss: 0.1013 - val_accuracy: 0.9705\n",
      "Epoch 50/125\n",
      "234/234 [==============================] - 2s 8ms/step - loss: 0.1562 - accuracy: 0.9730 - val_loss: 0.1058 - val_accuracy: 0.9668\n",
      "Epoch 51/125\n",
      "234/234 [==============================] - 2s 8ms/step - loss: 0.0409 - accuracy: 0.9876 - val_loss: 0.0940 - val_accuracy: 0.9702\n",
      "Epoch 52/125\n",
      "234/234 [==============================] - 2s 8ms/step - loss: 0.0356 - accuracy: 0.9892 - val_loss: 0.0893 - val_accuracy: 0.9720\n",
      "Epoch 53/125\n",
      "234/234 [==============================] - 2s 7ms/step - loss: 0.0324 - accuracy: 0.9904 - val_loss: 0.0860 - val_accuracy: 0.9734\n",
      "Epoch 54/125\n",
      "234/234 [==============================] - 2s 8ms/step - loss: 0.0300 - accuracy: 0.9907 - val_loss: 0.0874 - val_accuracy: 0.9726\n",
      "Epoch 55/125\n",
      "234/234 [==============================] - 2s 8ms/step - loss: 0.0281 - accuracy: 0.9915 - val_loss: 0.0890 - val_accuracy: 0.9725\n",
      "Epoch 56/125\n",
      "234/234 [==============================] - 2s 8ms/step - loss: 0.0287 - accuracy: 0.9911 - val_loss: 0.0903 - val_accuracy: 0.9719\n",
      "Epoch 57/125\n",
      "234/234 [==============================] - 2s 8ms/step - loss: 0.0273 - accuracy: 0.9915 - val_loss: 0.0865 - val_accuracy: 0.9736\n",
      "Epoch 58/125\n",
      "234/234 [==============================] - 2s 8ms/step - loss: 0.0259 - accuracy: 0.9924 - val_loss: 0.0838 - val_accuracy: 0.9742\n",
      "Epoch 59/125\n",
      "234/234 [==============================] - 2s 8ms/step - loss: 0.0252 - accuracy: 0.9922 - val_loss: 0.0825 - val_accuracy: 0.9754\n",
      "Epoch 60/125\n",
      "234/234 [==============================] - 2s 8ms/step - loss: 0.0262 - accuracy: 0.9919 - val_loss: 0.0855 - val_accuracy: 0.9745\n",
      "Epoch 61/125\n",
      "234/234 [==============================] - 2s 8ms/step - loss: 0.0243 - accuracy: 0.9925 - val_loss: 0.0769 - val_accuracy: 0.9770\n",
      "Epoch 62/125\n",
      "234/234 [==============================] - 2s 8ms/step - loss: 0.0237 - accuracy: 0.9926 - val_loss: 0.0747 - val_accuracy: 0.9779\n",
      "Epoch 63/125\n",
      "234/234 [==============================] - 2s 8ms/step - loss: 0.0231 - accuracy: 0.9931 - val_loss: 0.0833 - val_accuracy: 0.9739\n",
      "Epoch 64/125\n",
      "234/234 [==============================] - 2s 8ms/step - loss: 0.0238 - accuracy: 0.9926 - val_loss: 0.0788 - val_accuracy: 0.9758\n",
      "Epoch 65/125\n",
      "234/234 [==============================] - 2s 8ms/step - loss: 0.0217 - accuracy: 0.9938 - val_loss: 0.0780 - val_accuracy: 0.9762\n",
      "Epoch 66/125\n",
      "234/234 [==============================] - 2s 8ms/step - loss: 0.0228 - accuracy: 0.9929 - val_loss: 0.0804 - val_accuracy: 0.9764\n",
      "Epoch 67/125\n",
      "234/234 [==============================] - 2s 8ms/step - loss: 0.0213 - accuracy: 0.9937 - val_loss: 0.0788 - val_accuracy: 0.9765\n",
      "Epoch 68/125\n",
      "234/234 [==============================] - 2s 8ms/step - loss: 0.0227 - accuracy: 0.9929 - val_loss: 0.0835 - val_accuracy: 0.9754\n",
      "Epoch 69/125\n",
      "234/234 [==============================] - 2s 8ms/step - loss: 0.0205 - accuracy: 0.9937 - val_loss: 0.0764 - val_accuracy: 0.9773\n",
      "Epoch 70/125\n",
      "234/234 [==============================] - 2s 8ms/step - loss: 0.0204 - accuracy: 0.9939 - val_loss: 0.0728 - val_accuracy: 0.9780\n",
      "Epoch 71/125\n",
      "234/234 [==============================] - 2s 8ms/step - loss: 0.0203 - accuracy: 0.9937 - val_loss: 0.0777 - val_accuracy: 0.9767\n",
      "Epoch 72/125\n",
      "234/234 [==============================] - 2s 8ms/step - loss: 0.0198 - accuracy: 0.9939 - val_loss: 0.0775 - val_accuracy: 0.9758\n",
      "Epoch 73/125\n",
      "234/234 [==============================] - 2s 8ms/step - loss: 0.0197 - accuracy: 0.9940 - val_loss: 0.0807 - val_accuracy: 0.9762\n",
      "Epoch 74/125\n",
      "234/234 [==============================] - 2s 8ms/step - loss: 0.0190 - accuracy: 0.9945 - val_loss: 0.0771 - val_accuracy: 0.9763\n",
      "Epoch 75/125\n",
      "234/234 [==============================] - 2s 8ms/step - loss: 0.0187 - accuracy: 0.9944 - val_loss: 0.0727 - val_accuracy: 0.9778\n",
      "Epoch 76/125\n",
      "234/234 [==============================] - 2s 8ms/step - loss: 0.0195 - accuracy: 0.9941 - val_loss: 0.0746 - val_accuracy: 0.9777\n",
      "Epoch 77/125\n",
      "234/234 [==============================] - 2s 8ms/step - loss: 0.0179 - accuracy: 0.9945 - val_loss: 0.0770 - val_accuracy: 0.9772\n",
      "Epoch 78/125\n",
      "234/234 [==============================] - 2s 8ms/step - loss: 0.0185 - accuracy: 0.9944 - val_loss: 0.0696 - val_accuracy: 0.9789\n",
      "Epoch 79/125\n",
      "234/234 [==============================] - 2s 8ms/step - loss: 0.0169 - accuracy: 0.9950 - val_loss: 0.0760 - val_accuracy: 0.9771\n",
      "Epoch 80/125\n",
      "234/234 [==============================] - 2s 8ms/step - loss: 0.0185 - accuracy: 0.9944 - val_loss: 0.0703 - val_accuracy: 0.9791\n",
      "Epoch 81/125\n",
      "234/234 [==============================] - 2s 8ms/step - loss: 0.0164 - accuracy: 0.9949 - val_loss: 0.0715 - val_accuracy: 0.9790\n",
      "Epoch 82/125\n",
      "234/234 [==============================] - 2s 8ms/step - loss: 0.0174 - accuracy: 0.9945 - val_loss: 0.0721 - val_accuracy: 0.9784\n",
      "Epoch 83/125\n",
      "234/234 [==============================] - 2s 8ms/step - loss: 0.0164 - accuracy: 0.9953 - val_loss: 0.0733 - val_accuracy: 0.9782\n",
      "Epoch 84/125\n",
      "234/234 [==============================] - 2s 8ms/step - loss: 0.0168 - accuracy: 0.9949 - val_loss: 0.0714 - val_accuracy: 0.9791\n",
      "Epoch 85/125\n",
      "234/234 [==============================] - 2s 8ms/step - loss: 0.0159 - accuracy: 0.9948 - val_loss: 0.0722 - val_accuracy: 0.9780\n",
      "Epoch 86/125\n",
      "234/234 [==============================] - 2s 8ms/step - loss: 0.0162 - accuracy: 0.9951 - val_loss: 0.0724 - val_accuracy: 0.9784\n",
      "Epoch 87/125\n",
      "234/234 [==============================] - 2s 8ms/step - loss: 0.0166 - accuracy: 0.9951 - val_loss: 0.0684 - val_accuracy: 0.9801\n",
      "Epoch 88/125\n",
      "234/234 [==============================] - 2s 8ms/step - loss: 0.0147 - accuracy: 0.9954 - val_loss: 0.0696 - val_accuracy: 0.9795\n",
      "Epoch 89/125\n",
      "234/234 [==============================] - 2s 8ms/step - loss: 0.0159 - accuracy: 0.9951 - val_loss: 0.0778 - val_accuracy: 0.9774\n",
      "Epoch 90/125\n",
      "234/234 [==============================] - 2s 8ms/step - loss: 0.0144 - accuracy: 0.9957 - val_loss: 0.0704 - val_accuracy: 0.9793\n",
      "Epoch 91/125\n",
      "234/234 [==============================] - 2s 8ms/step - loss: 0.0148 - accuracy: 0.9956 - val_loss: 0.0723 - val_accuracy: 0.9790\n",
      "Epoch 92/125\n",
      "234/234 [==============================] - 2s 8ms/step - loss: 0.0150 - accuracy: 0.9956 - val_loss: 0.0700 - val_accuracy: 0.9790\n",
      "Epoch 93/125\n",
      "234/234 [==============================] - 2s 8ms/step - loss: 0.0141 - accuracy: 0.9956 - val_loss: 0.0697 - val_accuracy: 0.9801\n",
      "Epoch 94/125\n",
      "234/234 [==============================] - 2s 8ms/step - loss: 0.0150 - accuracy: 0.9955 - val_loss: 0.0746 - val_accuracy: 0.9783\n",
      "Epoch 95/125\n",
      "234/234 [==============================] - 2s 8ms/step - loss: 0.0134 - accuracy: 0.9960 - val_loss: 0.0692 - val_accuracy: 0.9795\n",
      "Epoch 96/125\n",
      "234/234 [==============================] - 2s 8ms/step - loss: 0.0139 - accuracy: 0.9956 - val_loss: 0.0764 - val_accuracy: 0.9792\n",
      "Epoch 97/125\n",
      "234/234 [==============================] - 2s 8ms/step - loss: 0.0136 - accuracy: 0.9959 - val_loss: 0.0727 - val_accuracy: 0.9780\n"
     ]
    }
   ],
   "source": [
    "# Interrupt training if `val_loss` hasn't decreased in 10 epochs\n",
    "early_stop = callbacks.EarlyStopping(monitor='val_loss', patience=10)\n",
    "\n",
    "history = model.fit(train_images, train_labels,\n",
    "                    epochs=EPOCHS, batch_size=BATCH_SIZE,\n",
    "                    steps_per_epoch=train_images.shape[0] // BATCH_SIZE,\n",
    "                    validation_data=(test_images, test_labels),\n",
    "                    validation_steps=test_images.shape[0] // BATCH_SIZE,\n",
    "                    callbacks=[early_stop], verbose=1)  # type: ignore\n",
    "\n",
    "# For some weird reason VSCode gets hung up on the verbose=1 argument type, hence the '#type: ignore' comment\n"
   ]
  },
  {
   "cell_type": "markdown",
   "metadata": {},
   "source": [
    "## Evaluating model"
   ]
  },
  {
   "cell_type": "code",
   "execution_count": 37,
   "metadata": {},
   "outputs": [
    {
     "name": "stdout",
     "output_type": "stream",
     "text": [
      "625/625 [==============================] - 2s 4ms/step - loss: 0.0726 - accuracy: 0.9779\n",
      "Model accuracy: 97.79%\n"
     ]
    }
   ],
   "source": [
    "_, accuracy = model.evaluate(\n",
    "    test_images, test_labels, verbose=1)  # type: ignore\n",
    "print(f\"Model accuracy: {accuracy * 100:.2f}%\")\n"
   ]
  },
  {
   "cell_type": "markdown",
   "metadata": {},
   "source": [
    "## Visualization\n",
    "Let's see a fancy visualization of the model accuracy, shall we?\n",
    "\n",
    "The `history` object returned after training the model contains the metrics which we can access just like a `dict`.\n",
    "\n",
    "In our case, the history object contains the following metrics: `loss`, `accuracy`, `val_loss`, `val_accuracy`"
   ]
  },
  {
   "cell_type": "code",
   "execution_count": 38,
   "metadata": {},
   "outputs": [
    {
     "data": {
      "image/png": "[encoded data removed]",
      "text/plain": [
       "<Figure size 640x480 with 1 Axes>"
      ]
     },
     "metadata": {},
     "output_type": "display_data"
    }
   ],
   "source": [
    "plt.plot(history.history['accuracy'])\n",
    "plt.plot(history.history['val_accuracy'])\n",
    "\n",
    "plt.title('Model accuracy')\n",
    "\n",
    "plt.ylabel('Accuracy')\n",
    "plt.xlabel('Epoch')\n",
    "\n",
    "plt.legend(['Training set', 'Testing set'], loc='lower right')\n",
    "\n",
    "plt.show()\n"
   ]
  }
 ],
 "metadata": {
  "kernelspec": {
   "display_name": "Python 3.10.6 ('tf')",
   "language": "python",
   "name": "python3"
  },
  "language_info": {
   "codemirror_mode": {
    "name": "ipython",
    "version": 3
   },
   "file_extension": ".py",
   "mimetype": "text/x-python",
   "name": "python",
   "nbconvert_exporter": "python",
   "pygments_lexer": "ipython3",
   "version": "3.10.6"
  },
  "orig_nbformat": 4,
  "vscode": {
   "interpreter": {
    "hash": "62689e9cca3bb6f299b2d50d7893a1b09a06bde1b76c5f7fb431e5c10031e57c"
   }
  }
 },
 "nbformat": 4,
 "nbformat_minor": 2
}
