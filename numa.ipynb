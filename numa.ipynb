{
 "cells": [
  {
   "cell_type": "markdown",
   "metadata": {},
   "source": [
    "# LeNet-5 on HODA"
   ]
  },
  {
   "cell_type": "markdown",
   "metadata": {},
   "source": [
    "## Silence TensorFlow\n",
    "We can control the verbosity of TF by setting the `TF_CPP_MIN_LOG_LEVEL` environment variable _before_ importing TensorFlow.\n",
    "\n",
    "This step is enitrely __optional__. But TensorFlow's useless log messages can get annoying..."
   ]
  },
  {
   "cell_type": "code",
   "execution_count": 3,
   "metadata": {},
   "outputs": [],
   "source": [
    "import os\n",
    "\n",
    "os.environ['TF_CPP_MIN_LOG_LEVEL'] = '3'\n"
   ]
  },
  {
   "cell_type": "markdown",
   "metadata": {},
   "source": [
    "## Imports"
   ]
  },
  {
   "cell_type": "code",
   "execution_count": 4,
   "metadata": {},
   "outputs": [],
   "source": [
    "import logging\n",
    "\n",
    "import keras\n",
    "from keras import layers, optimizers, utils, callbacks\n",
    "\n",
    "import matplotlib.pyplot as plt\n",
    "\n",
    "from numa.dataset import hoda\n"
   ]
  },
  {
   "cell_type": "markdown",
   "metadata": {},
   "source": [
    "## Settings"
   ]
  },
  {
   "cell_type": "code",
   "execution_count": 5,
   "metadata": {},
   "outputs": [],
   "source": [
    "# Set logging level to info (used in some parts of this project)\n",
    "logging.basicConfig(level=logging.INFO)\n",
    "\n",
    "# Learning rate for Gradient descent\n",
    "LEARNING_RATE = 0.01\n",
    "# Number of iterations for training model\n",
    "EPOCHS = 30\n",
    "# Number of samples utilized in one training iteration (Usually 128 or 256 is a good choice for GPU)\n",
    "BATCH_SIZE = 256\n"
   ]
  },
  {
   "cell_type": "markdown",
   "metadata": {},
   "source": [
    "## Importing dataset\n",
    "This step may take a long time to complete. This is due to the fact that the HODA database is __not__ using format compatible with TF, therefore the dataset must be converted before getting fed into the model. "
   ]
  },
  {
   "cell_type": "code",
   "execution_count": 6,
   "metadata": {},
   "outputs": [
    {
     "name": "stderr",
     "output_type": "stream",
     "text": [
      "INFO:root:Reading dataset /home/mehrzad/Code/numa/numa/dataset/hoda/Train.cdb\n",
      "INFO:root:Release date: 2005/8/4\n",
      "INFO:root:Records: 60000\n",
      "INFO:root:Reading dataset /home/mehrzad/Code/numa/numa/dataset/hoda/Test.cdb\n",
      "INFO:root:Release date: 2005/8/4\n",
      "INFO:root:Records: 20000\n"
     ]
    }
   ],
   "source": [
    "# 32x32 binary datasets\n",
    "(train_images, train_labels), (test_images,\n",
    "                               test_labels) = hoda.load_dataset(32)\n"
   ]
  },
  {
   "cell_type": "markdown",
   "metadata": {},
   "source": [
    "## Preparing dataset\n",
    "We have to do some preparations on the dataset before feeding it to the model, more specifically we need to normalize the dataset images and convert labels to one-hot labels"
   ]
  },
  {
   "cell_type": "code",
   "execution_count": 7,
   "metadata": {},
   "outputs": [],
   "source": [
    "# Normalize\n",
    "train_images = train_images.astype('float32') / 255.0\n",
    "test_images = test_images.astype('float32') / 255.0\n",
    "\n",
    "# One-hot labels\n",
    "train_labels = utils.to_categorical(train_labels)\n",
    "test_labels = utils.to_categorical(test_labels)\n"
   ]
  },
  {
   "cell_type": "markdown",
   "metadata": {},
   "source": [
    "## Model\n",
    "Model configuration:\n",
    "  * Using Gradient descent as the optimizer\n",
    "  * Using 'Categorical crossentropy' as loss function\n",
    "    * Model weights are adjusted in a way to minimize the cross-entropy loss (the smaller the loss the better the model)\n",
    "  * Using 'accuracy' as metric (how often predictions match actual labels)\n",
    "  * Most of the time kernel size of 3x3 or 5x5 works the best"
   ]
  },
  {
   "cell_type": "code",
   "execution_count": 8,
   "metadata": {},
   "outputs": [
    {
     "name": "stdout",
     "output_type": "stream",
     "text": [
      "Model: \"sequential\"\n",
      "_________________________________________________________________\n",
      " Layer (type)                Output Shape              Param #   \n",
      "=================================================================\n",
      " conv2d (Conv2D)             (None, 32, 32, 6)         60        \n",
      "                                                                 \n",
      " max_pooling2d (MaxPooling2D  (None, 16, 16, 6)        0         \n",
      " )                                                               \n",
      "                                                                 \n",
      " conv2d_1 (Conv2D)           (None, 14, 14, 16)        880       \n",
      "                                                                 \n",
      " max_pooling2d_1 (MaxPooling  (None, 7, 7, 16)         0         \n",
      " 2D)                                                             \n",
      "                                                                 \n",
      " flatten (Flatten)           (None, 784)               0         \n",
      "                                                                 \n",
      " dense (Dense)               (None, 120)               94200     \n",
      "                                                                 \n",
      " dense_1 (Dense)             (None, 84)                10164     \n",
      "                                                                 \n",
      " dense_2 (Dense)             (None, 10)                850       \n",
      "                                                                 \n",
      "=================================================================\n",
      "Total params: 106,154\n",
      "Trainable params: 106,154\n",
      "Non-trainable params: 0\n",
      "_________________________________________________________________\n"
     ]
    }
   ],
   "source": [
    "# Define model\n",
    "model = keras.Sequential([\n",
    "    layers.Conv2D(filters=6, kernel_size=(3, 3), activation='relu',\n",
    "                  padding='same', input_shape=(32, 32, 1)),  # C1\n",
    "    layers.MaxPooling2D(pool_size=(2, 2)),  # S2\n",
    "    layers.Conv2D(filters=16, kernel_size=(3, 3), activation='relu'),  # C3\n",
    "    layers.MaxPooling2D(pool_size=(2, 2)),  # S4\n",
    "    layers.Flatten(),\n",
    "    layers.Dense(120, activation='relu'),  # C5\n",
    "    layers.Dense(84, activation='relu'),  # F6\n",
    "    layers.Dense(10, activation='softmax'),  # Output\n",
    "])\n",
    "\n",
    "# Configure model\n",
    "model.compile(optimizer=optimizers.SGD(learning_rate=LEARNING_RATE),\n",
    "              loss='categorical_crossentropy', metrics=['accuracy'])\n",
    "\n",
    "# Print a summary of the model\n",
    "model.summary()\n"
   ]
  },
  {
   "cell_type": "markdown",
   "metadata": {},
   "source": [
    "## Training model\n",
    "This is where the real fun begins! The model defined in the previous cell will get trained by the HODA dataset.\n",
    "\n",
    "This step will take a _long_ time. Go grab a cup of coffee. \n",
    "\n",
    "* How are we supposed to choose the value for `steps_per_epoch` and `validation_steps` fields?\n",
    "\n",
    "  Most of the time `(number of samples / batch size)` will have good results.\n",
    "\n",
    "  In our case `number of samples` is the first field of the dataset array shape.\n",
    "\n",
    "  (Dataset array shape: `(60000, 32, 32)` - that is 60000 images of size 32x32)"
   ]
  },
  {
   "cell_type": "code",
   "execution_count": 9,
   "metadata": {},
   "outputs": [
    {
     "name": "stdout",
     "output_type": "stream",
     "text": [
      "Epoch 1/30\n",
      "234/234 [==============================] - 16s 20ms/step - loss: 1.5619 - accuracy: 0.5033 - val_loss: 0.5618 - val_accuracy: 0.8042\n",
      "Epoch 2/30\n",
      "234/234 [==============================] - 4s 17ms/step - loss: 0.2241 - accuracy: 0.9333 - val_loss: 0.3474 - val_accuracy: 0.8831\n",
      "Epoch 3/30\n",
      "234/234 [==============================] - 4s 18ms/step - loss: 0.1524 - accuracy: 0.9547 - val_loss: 0.2651 - val_accuracy: 0.9174\n",
      "Epoch 4/30\n",
      "234/234 [==============================] - 4s 17ms/step - loss: 0.1304 - accuracy: 0.9615 - val_loss: 0.2413 - val_accuracy: 0.9234\n",
      "Epoch 5/30\n",
      "234/234 [==============================] - 4s 17ms/step - loss: 0.1123 - accuracy: 0.9668 - val_loss: 0.2175 - val_accuracy: 0.9306\n",
      "Epoch 6/30\n",
      "234/234 [==============================] - 4s 18ms/step - loss: 0.1013 - accuracy: 0.9700 - val_loss: 0.1929 - val_accuracy: 0.9415\n",
      "Epoch 7/30\n",
      "234/234 [==============================] - 4s 18ms/step - loss: 0.0917 - accuracy: 0.9724 - val_loss: 0.1786 - val_accuracy: 0.9454\n",
      "Epoch 8/30\n",
      "234/234 [==============================] - 4s 18ms/step - loss: 0.0853 - accuracy: 0.9750 - val_loss: 0.1741 - val_accuracy: 0.9452\n",
      "Epoch 9/30\n",
      "234/234 [==============================] - 4s 18ms/step - loss: 0.0797 - accuracy: 0.9760 - val_loss: 0.1570 - val_accuracy: 0.9515\n",
      "Epoch 10/30\n",
      "234/234 [==============================] - 4s 18ms/step - loss: 0.0739 - accuracy: 0.9784 - val_loss: 0.1476 - val_accuracy: 0.9549\n",
      "Epoch 11/30\n",
      "234/234 [==============================] - 4s 17ms/step - loss: 0.0697 - accuracy: 0.9798 - val_loss: 0.1676 - val_accuracy: 0.9485\n",
      "Epoch 12/30\n",
      "234/234 [==============================] - 4s 17ms/step - loss: 0.0670 - accuracy: 0.9806 - val_loss: 0.1366 - val_accuracy: 0.9568\n",
      "Epoch 13/30\n",
      "234/234 [==============================] - 4s 18ms/step - loss: 0.0637 - accuracy: 0.9816 - val_loss: 0.1394 - val_accuracy: 0.9564\n",
      "Epoch 14/30\n",
      "234/234 [==============================] - 4s 18ms/step - loss: 0.0604 - accuracy: 0.9820 - val_loss: 0.1242 - val_accuracy: 0.9621\n",
      "Epoch 15/30\n",
      "234/234 [==============================] - 4s 18ms/step - loss: 0.0567 - accuracy: 0.9834 - val_loss: 0.1211 - val_accuracy: 0.9626\n",
      "Epoch 16/30\n",
      "234/234 [==============================] - 4s 17ms/step - loss: 0.0552 - accuracy: 0.9837 - val_loss: 0.1235 - val_accuracy: 0.9615\n",
      "Epoch 17/30\n",
      "234/234 [==============================] - 4s 17ms/step - loss: 0.0537 - accuracy: 0.9842 - val_loss: 0.1125 - val_accuracy: 0.9664\n",
      "Epoch 18/30\n",
      "234/234 [==============================] - 4s 18ms/step - loss: 0.0502 - accuracy: 0.9854 - val_loss: 0.1114 - val_accuracy: 0.9657\n",
      "Epoch 19/30\n",
      "234/234 [==============================] - 4s 17ms/step - loss: 0.0493 - accuracy: 0.9859 - val_loss: 0.1129 - val_accuracy: 0.9654\n",
      "Epoch 20/30\n",
      "234/234 [==============================] - 4s 17ms/step - loss: 0.0466 - accuracy: 0.9868 - val_loss: 0.1075 - val_accuracy: 0.9674\n",
      "Epoch 21/30\n",
      "234/234 [==============================] - 4s 17ms/step - loss: 0.0464 - accuracy: 0.9866 - val_loss: 0.1040 - val_accuracy: 0.9678\n",
      "Epoch 22/30\n",
      "234/234 [==============================] - 4s 17ms/step - loss: 0.0435 - accuracy: 0.9877 - val_loss: 0.1052 - val_accuracy: 0.9672\n",
      "Epoch 23/30\n",
      "234/234 [==============================] - 4s 18ms/step - loss: 0.0442 - accuracy: 0.9868 - val_loss: 0.1074 - val_accuracy: 0.9662\n",
      "Epoch 24/30\n",
      "234/234 [==============================] - 4s 17ms/step - loss: 0.0420 - accuracy: 0.9880 - val_loss: 0.1022 - val_accuracy: 0.9677\n",
      "Epoch 25/30\n",
      "234/234 [==============================] - 4s 17ms/step - loss: 0.0397 - accuracy: 0.9886 - val_loss: 0.0974 - val_accuracy: 0.9696\n",
      "Epoch 26/30\n",
      "234/234 [==============================] - 4s 17ms/step - loss: 0.0402 - accuracy: 0.9886 - val_loss: 0.0947 - val_accuracy: 0.9710\n",
      "Epoch 27/30\n",
      "234/234 [==============================] - 4s 18ms/step - loss: 0.0389 - accuracy: 0.9886 - val_loss: 0.0938 - val_accuracy: 0.9710\n",
      "Epoch 28/30\n",
      "234/234 [==============================] - 4s 17ms/step - loss: 0.0372 - accuracy: 0.9890 - val_loss: 0.0992 - val_accuracy: 0.9692\n",
      "Epoch 29/30\n",
      "234/234 [==============================] - 4s 17ms/step - loss: 0.0362 - accuracy: 0.9891 - val_loss: 0.0904 - val_accuracy: 0.9724\n",
      "Epoch 30/30\n",
      "234/234 [==============================] - 4s 18ms/step - loss: 0.0357 - accuracy: 0.9892 - val_loss: 0.0894 - val_accuracy: 0.9721\n"
     ]
    }
   ],
   "source": [
    "# Interrupt training if `val_loss` hasn't decreased in 10 epochs\n",
    "early_stop = callbacks.EarlyStopping(monitor='val_loss', patience=10)\n",
    "\n",
    "history = model.fit(train_images, train_labels,\n",
    "                    epochs=EPOCHS, batch_size=BATCH_SIZE,\n",
    "                    steps_per_epoch=train_images.shape[0] // BATCH_SIZE,\n",
    "                    validation_data=(test_images, test_labels),\n",
    "                    validation_steps=test_images.shape[0] // BATCH_SIZE,\n",
    "                    callbacks=[early_stop], verbose=1)  # type: ignore\n",
    "\n",
    "# For some weird reason VSCode gets hung up on the verbose=1 argument type, hence the '#type: ignore' comment\n"
   ]
  },
  {
   "cell_type": "markdown",
   "metadata": {},
   "source": [
    "## Evaluating model"
   ]
  },
  {
   "cell_type": "code",
   "execution_count": 10,
   "metadata": {},
   "outputs": [
    {
     "name": "stdout",
     "output_type": "stream",
     "text": [
      "625/625 [==============================] - 6s 10ms/step - loss: 0.0893 - accuracy: 0.9722\n",
      "Model accuracy: 97.22%\n"
     ]
    }
   ],
   "source": [
    "_, accuracy = model.evaluate(\n",
    "    test_images, test_labels, verbose=1)  # type: ignore\n",
    "print(f\"Model accuracy: {accuracy * 100:.2f}%\")\n"
   ]
  },
  {
   "cell_type": "markdown",
   "metadata": {},
   "source": [
    "## Visualization\n",
    "Let's see a fancy visualization of the model accuracy, shall we?\n",
    "\n",
    "The `history` object returned after training the model contains the metrics which we can access just like a `dict`.\n",
    "\n",
    "In our case, the history object contains the following metrics: `loss`, `accuracy`, `val_loss`, `val_accuracy`"
   ]
  },
  {
   "cell_type": "code",
   "execution_count": 11,
   "metadata": {},
   "outputs": [
    {
     "data": {
      "image/png": "[encoded data removed]",
      "text/plain": [
       "<Figure size 640x480 with 1 Axes>"
      ]
     },
     "metadata": {},
     "output_type": "display_data"
    }
   ],
   "source": [
    "plt.plot(history.history['accuracy'])\n",
    "plt.plot(history.history['val_accuracy'])\n",
    "\n",
    "plt.title('Model accuracy')\n",
    "\n",
    "plt.ylabel('Accuracy')\n",
    "plt.xlabel('Epoch')\n",
    "\n",
    "plt.legend(['Training set', 'Testing set'], loc='lower right')\n",
    "\n",
    "plt.show()\n"
   ]
  }
 ],
 "metadata": {
  "kernelspec": {
   "display_name": "Python 3.10.6 ('tf')",
   "language": "python",
   "name": "python3"
  },
  "language_info": {
   "codemirror_mode": {
    "name": "ipython",
    "version": 3
   },
   "file_extension": ".py",
   "mimetype": "text/x-python",
   "name": "python",
   "nbconvert_exporter": "python",
   "pygments_lexer": "ipython3",
   "version": "3.10.6"
  },
  "orig_nbformat": 4,
  "vscode": {
   "interpreter": {
    "hash": "62689e9cca3bb6f299b2d50d7893a1b09a06bde1b76c5f7fb431e5c10031e57c"
   }
  }
 },
 "nbformat": 4,
 "nbformat_minor": 2
}
